{
 "cells": [
  {
   "cell_type": "code",
   "execution_count": 16,
   "metadata": {},
   "outputs": [],
   "source": [
    "import sys\n",
    "import os\n",
    "\n",
    "import pandas as pd"
   ]
  },
  {
   "cell_type": "code",
   "execution_count": 17,
   "metadata": {},
   "outputs": [],
   "source": [
    "with open('../data/train.json', 'r') as f:\n",
    "    train = eval(f.read())"
   ]
  },
  {
   "cell_type": "code",
   "execution_count": 56,
   "metadata": {},
   "outputs": [],
   "source": [
    "with open('../data/test.json', 'r') as f:\n",
    "    test = eval(f.read())"
   ]
  },
  {
   "cell_type": "code",
   "execution_count": 60,
   "metadata": {},
   "outputs": [],
   "source": [
    "sample = pd.read_csv('../data/sample_submission.csv')"
   ]
  },
  {
   "cell_type": "code",
   "execution_count": 61,
   "metadata": {},
   "outputs": [
    {
     "data": {
      "text/html": [
       "<div>\n",
       "<style scoped>\n",
       "    .dataframe tbody tr th:only-of-type {\n",
       "        vertical-align: middle;\n",
       "    }\n",
       "\n",
       "    .dataframe tbody tr th {\n",
       "        vertical-align: top;\n",
       "    }\n",
       "\n",
       "    .dataframe thead th {\n",
       "        text-align: right;\n",
       "    }\n",
       "</style>\n",
       "<table border=\"1\" class=\"dataframe\">\n",
       "  <thead>\n",
       "    <tr style=\"text-align: right;\">\n",
       "      <th></th>\n",
       "      <th>uid</th>\n",
       "      <th>summary</th>\n",
       "    </tr>\n",
       "  </thead>\n",
       "  <tbody>\n",
       "    <tr>\n",
       "      <th>0</th>\n",
       "      <td>id_2000-AGENDA_1</td>\n",
       "      <td>요약문</td>\n",
       "    </tr>\n",
       "    <tr>\n",
       "      <th>1</th>\n",
       "      <td>id_2000-AGENDA_2</td>\n",
       "      <td>요약문</td>\n",
       "    </tr>\n",
       "    <tr>\n",
       "      <th>2</th>\n",
       "      <td>id_2000-AGENDA_3</td>\n",
       "      <td>요약문</td>\n",
       "    </tr>\n",
       "    <tr>\n",
       "      <th>3</th>\n",
       "      <td>id_2000-AGENDA_4</td>\n",
       "      <td>요약문</td>\n",
       "    </tr>\n",
       "    <tr>\n",
       "      <th>4</th>\n",
       "      <td>id_2000-AGENDA_5</td>\n",
       "      <td>요약문</td>\n",
       "    </tr>\n",
       "    <tr>\n",
       "      <th>...</th>\n",
       "      <td>...</td>\n",
       "      <td>...</td>\n",
       "    </tr>\n",
       "    <tr>\n",
       "      <th>501</th>\n",
       "      <td>id_2096-AGENDA_2</td>\n",
       "      <td>요약문</td>\n",
       "    </tr>\n",
       "    <tr>\n",
       "      <th>502</th>\n",
       "      <td>id_2096-AGENDA_3</td>\n",
       "      <td>요약문</td>\n",
       "    </tr>\n",
       "    <tr>\n",
       "      <th>503</th>\n",
       "      <td>id_2096-AGENDA_4</td>\n",
       "      <td>요약문</td>\n",
       "    </tr>\n",
       "    <tr>\n",
       "      <th>504</th>\n",
       "      <td>id_2096-AGENDA_5</td>\n",
       "      <td>요약문</td>\n",
       "    </tr>\n",
       "    <tr>\n",
       "      <th>505</th>\n",
       "      <td>id_2096-AGENDA_6</td>\n",
       "      <td>요약문</td>\n",
       "    </tr>\n",
       "  </tbody>\n",
       "</table>\n",
       "<p>506 rows × 2 columns</p>\n",
       "</div>"
      ],
      "text/plain": [
       "                  uid summary\n",
       "0    id_2000-AGENDA_1     요약문\n",
       "1    id_2000-AGENDA_2     요약문\n",
       "2    id_2000-AGENDA_3     요약문\n",
       "3    id_2000-AGENDA_4     요약문\n",
       "4    id_2000-AGENDA_5     요약문\n",
       "..                ...     ...\n",
       "501  id_2096-AGENDA_2     요약문\n",
       "502  id_2096-AGENDA_3     요약문\n",
       "503  id_2096-AGENDA_4     요약문\n",
       "504  id_2096-AGENDA_5     요약문\n",
       "505  id_2096-AGENDA_6     요약문\n",
       "\n",
       "[506 rows x 2 columns]"
      ]
     },
     "execution_count": 61,
     "metadata": {},
     "output_type": "execute_result"
    }
   ],
   "source": [
    "sample"
   ]
  },
  {
   "cell_type": "code",
   "execution_count": 62,
   "metadata": {},
   "outputs": [
    {
     "data": {
      "text/plain": [
       "2000"
      ]
     },
     "execution_count": 62,
     "metadata": {},
     "output_type": "execute_result"
    }
   ],
   "source": [
    "test[0]['id']"
   ]
  },
  {
   "cell_type": "code",
   "execution_count": 59,
   "metadata": {},
   "outputs": [
    {
     "data": {
      "text/plain": [
       "dict_keys(['id', 'title', 'region', 'num_agenda', 'context'])"
      ]
     },
     "execution_count": 59,
     "metadata": {},
     "output_type": "execute_result"
    }
   ],
   "source": [
    "test[0].keys()"
   ]
  },
  {
   "cell_type": "code",
   "execution_count": 15,
   "metadata": {},
   "outputs": [
    {
     "data": {
      "text/plain": [
       "dict_keys(['id', 'title', 'region', 'num_agenda', 'context', 'label'])"
      ]
     },
     "execution_count": 15,
     "metadata": {},
     "output_type": "execute_result"
    }
   ],
   "source": [
    "train[0].keys()"
   ]
  },
  {
   "cell_type": "code",
   "execution_count": 18,
   "metadata": {},
   "outputs": [
    {
     "name": "stdout",
     "output_type": "stream",
     "text": [
      "1000\n",
      "제207회 완주군의회(임시회) 제 1 차 본회의회의록\n"
     ]
    }
   ],
   "source": [
    "print(train[0]['id'])\n",
    "print(train[0]['title'])\n",
    "# print(train([0]['region']))"
   ]
  },
  {
   "cell_type": "code",
   "execution_count": 24,
   "metadata": {},
   "outputs": [
    {
     "name": "stdout",
     "output_type": "stream",
     "text": [
      "완주\n",
      "4\n"
     ]
    }
   ],
   "source": [
    "print(train[0]['region'])\n",
    "print(train[0]['num_agenda'])"
   ]
  },
  {
   "cell_type": "code",
   "execution_count": 27,
   "metadata": {},
   "outputs": [
    {
     "name": "stdout",
     "output_type": "stream",
     "text": [
      "{'AGENDA_1': {'0': '의석을 정돈하여 주시기 바랍니다. 성원이 되었으므로 제207회 완주군의회 임시회 제1차 본회의 개의를 선포합니다. 먼저 의사팀장으로부터 의회 관련 사항에 대한 보고가 있겠습니다. 의사팀장은 보고하여 주시기 바랍니다.', '1': '의사팀장 이은미 입니다. 의회관련 사항을 보고 드리겠습니다. 먼저 제207회 완주군의회 임시회 소집경위를 보고 드리겠습니다. 지방자치법 제45조 제2항의 규정에 의거 서남용 의원님 외 4인의 의원님으로부터 임시회 집회 요구가 있어 지난 8월6일 집회 공고를 하고 오늘 집회를 갖게 되었습니다. 다음은 의안접수 및 회부사항입니다. 먼저 의원발의 안건입니다. 완주군의회 의원 의정활동비등 지급에 관한 조례 일부개정 조례안, 완주군 향토문화유산 보호 및 관리 조례안, 완주군 싸움소 육성 지원에 관한 조례안 등 총 3건으로, 해당 상임의원회로 회부 하였습니다. 다음은 완주군수로부터 제출된 안건입니다. 삼례문화예술촌 설치 및 운영조례 일부개정 조례안 등 총 40건으로 해당 상임의원회로 회부하였습니다. 자세한 내용은 배부해 드린 유인물을 참조하여 주시기 바랍니다. 이상 보고를 마치겠습니다.'}, 'AGENDA_2': {'0': '의사팀장 수고하셨습니다. 먼저 의사일정 제1항 제207회 완주군의회 임시회 회기 결정의 건을 상정합니다. 제207회 완주군의회 임시회 회기 결정의 건에 대하여는 서남용 의원님 외 4인의 의원님이 발의한대로 8월 26일부터 9월 4일까지 10일간의 회기를 결정하고자 합니다. 의원 여러분 이의 있으십니까?', '1': '(『없습니다』하는 의원 있음)', '2': '이의가 없으므로 가결되었음을 선포합니다.'}, 'AGENDA_3': {'0': '다음은 의사일정 제2항 제207회 완주군의회 임시회 회의록 서명의원 선출의 건을 상정합니다. 회의록 서명의원으로는 최등원 의원님과 박웅배 의원님을 선출하고자 하는데 의원여러분 이의 있습니까?', '1': '(『없습니다』하는 의원 있음)', '2': '이의가 없으므로 가결되었음을 선포합니다. 그럼 두 분 의원님께서는 본 회기동안 수고하여 주시기 바랍니다.'}, 'AGENDA_4': {'0': '다음은 의사일정 제3항 본회의 휴회의 건을 상정합니다. 상임의원회 의정활동을 위하여 8월 27일부터 9월 3일까지 8일간 본회를 휴회 하고자 합니다. 의원여러분 이의 있으십니까?', '1': '(『없습니다』하는 의원 있음)', '2': '이의가 없으므로 가결되었음을 선포합니다. 이상으로 제207회 완주군의회 임시회 제1차 본회의를 마치겠습니다. 다음 제2차 본회의는 9월 4일 오전 10시에 개의하겠습니다. 의원여러분 수고 많으셨습니다. 산회를 선포합니다.'}}\n"
     ]
    }
   ],
   "source": [
    "print(train[0]['context'])"
   ]
  },
  {
   "cell_type": "code",
   "execution_count": 38,
   "metadata": {},
   "outputs": [
    {
     "name": "stdout",
     "output_type": "stream",
     "text": [
      "{'0': '의사팀장 수고하셨습니다. 먼저 의사일정 제1항 제207회 완주군의회 임시회 회기 결정의 건을 상정합니다. 제207회 완주군의회 임시회 회기 결정의 건에 대하여는 서남용 의원님 외 4인의 의원님이 발의한대로 8월 26일부터 9월 4일까지 10일간의 회기를 결정하고자 합니다. 의원 여러분 이의 있으십니까?', '1': '(『없습니다』하는 의원 있음)', '2': '이의가 없으므로 가결되었음을 선포합니다.'}\n"
     ]
    }
   ],
   "source": [
    "print(train[0]['context']['AGENDA_1'])"
   ]
  },
  {
   "cell_type": "code",
   "execution_count": 42,
   "metadata": {},
   "outputs": [
    {
     "name": "stdout",
     "output_type": "stream",
     "text": [
      "{'evidence': {'0': ['의석을 정돈하여 주시기 바랍니다.', '성원이 되었으므로 제207회 완주군의회 임시회 제1차 본회의 개의를 선포합니다.']}, 'summary': '제207회 완주군의회 임시회 제1차 본회의 개의 선포.'}\n"
     ]
    }
   ],
   "source": [
    "print(train[0]['label'][\"AGENDA_1\"])"
   ]
  },
  {
   "cell_type": "code",
   "execution_count": 43,
   "metadata": {},
   "outputs": [
    {
     "name": "stdout",
     "output_type": "stream",
     "text": [
      "제207회 완주군의회 임시회 제1차 본회의 개의 선포.\n"
     ]
    }
   ],
   "source": [
    "print(train[0]['label']['AGENDA_1']['summary'])"
   ]
  },
  {
   "cell_type": "code",
   "execution_count": null,
   "metadata": {},
   "outputs": [],
   "source": []
  },
  {
   "cell_type": "code",
   "execution_count": 52,
   "metadata": {},
   "outputs": [
    {
     "name": "stdout",
     "output_type": "stream",
     "text": [
      "{'0': '다음은 의사일정 제3항 행정사무감사특별위원회구성의 건을 상정합니다. 본 건은 완주군의회 행정사무감사 및 조사에 관한 조례 제2조 제1항의 규정에 의하여 감사특별위원회를 구성하여 제64회 임시회에서 행정사무감사 계획서를 작성하고 정기회에서 행정사무감사를 심시하고자 하는데 의원 여러분 이의 있으십니까?', '1': '(『없습니다』하는 의원 있음)', '2': '그러면 이의가 없으므로 감사특별위원회는 방대한 완주군 행정사무 전 분야를 보아야 하기 때문에 전 의원으로 구성코자 합니다. 감사특별위원회 구성은 이희창 의원, 안성근 의원, 소학영 의원, 함정구 의원, 이석환 의원, 홍의환 의원, 김영석 의원, 소병래 의원, 조정석 의원, 이진철 의원, 박용규 의원, 남대일 의원 이상 열두분 의원을 감사특별위원회 위원으로 선임코자 합니다. 의원 여러분 이의 없으십니까?', '3': '(『없습니다』하는 의원 있음)', '4': '이의가 없으므로 가결되었음을 선포합니다. 감사특별위원회 존속 기간은 금일부터 정기회의시 행정사무감사를 실시하고, 그 결과를 본회의에 보고하여 의결될 때까지 존속하여 주시기 바랍니다. 또한 감사특별위원회는 완주군의회 위원회 조례 제8조제1항 및 제11조제2항의 규정에 따라 위원장 1인과 간사 1인을 호선하여 본회의에 보고하여 주시기 바랍니다.', '5': '그리고 완주군의회 행정사무감사 및 조사에 관한 조례 제2조제2항의 규정에 따라 감사계획서를 작성하여 제2차 본회의에 승인을 얻으시기 바랍니다.'}\n"
     ]
    }
   ],
   "source": [
    "print(train[100]['context']['AGENDA_3'])"
   ]
  },
  {
   "cell_type": "code",
   "execution_count": 54,
   "metadata": {},
   "outputs": [
    {
     "name": "stdout",
     "output_type": "stream",
     "text": [
      "{'0': ['다음은 의사일정 제3항 행정사무감사특별위원회구성의 건을 상정합니다.', '본 건은 완주군의회 행정사무감사 및 조사에 관한 조례 제2조 제1항의 규정에 의하여 감사특별위원회를 구성하여 제64회 임시회에서 행정사무감사 계획서를 작성하고 정기회에서 행정사무감사를 심시하고자 하는데 의원 여러분 이의 있으십니까?'], '2': ['그러면 이의가 없으므로 감사특별위원회는 방대한 완주군 행정사무 전 분야를 보아야 하기 때문에 전 의원으로 구성코자 합니다.', '감사특별위원회 구성은 이희창 의원, 안성근 의원, 소학영 의원, 함정구 의원, 이석환 의원, 홍의환 의원, 김영석 의원, 소병래 의원, 조정석 의원, 이진철 의원, 박용규 의원, 남대일 의원 이상 열두분 의원을 감사특별위원회 위원으로 선임코자 합니다.', '의원 여러분 이의 없으십니까?'], '4': ['이의가 없으므로 가결되었음을 선포합니다.']}\n",
      "\n",
      "행정사무감사특별위원은 이희창 의원, 안성근 의원, 소학영 의원, 함정구 의원, 이석환 의원, 홍의환 의원, 김영석 의원, 소병래 의원, 조정석 의원, 이진철 의원, 박용규 의원, 남대일 의원으로 구성함.\n"
     ]
    }
   ],
   "source": [
    "print(train[100]['label']['AGENDA_3']['evidence'])\n",
    "print()\n",
    "print(train[100]['label']['AGENDA_3']['summary'])"
   ]
  },
  {
   "cell_type": "code",
   "execution_count": null,
   "metadata": {},
   "outputs": [],
   "source": []
  },
  {
   "cell_type": "code",
   "execution_count": 8,
   "metadata": {},
   "outputs": [
    {
     "data": {
      "text/plain": [
       "{'AGENDA_1': {'0': '좌석을 정돈하여 주시기 바랍니다. 성원이 되었으므로 제64회 완주군의회 임시회 제1차 본회의를 개의하겠습니다. 먼저 의사계장으로부터 보고가 있겠습니다. 의사계장 보고해 주시기 바랍니다.',\n",
       "  '1': '보고 사항을 말씀드리겠습니다.',\n",
       "  '2': \"'98년 10월 17일 완주군수로부터 '99년도지방채발행의결안이 제출되어 10월 20일 산업건설위원회로 회부하였고, 10월 29일 미국 칼슨시장 일행이 본 군의회를 방문하여 본회의 연설의 건이 제출되었으며, 운영위원회 안성근 위원장 외 4인으로부터 '98년도 완주군에 대한 행정사무감사 계획서를 작성하고 '99년도 완주군 실과소 주요시책 보고를 받기 위한 집회요구가 있어 '98년 10월 23일 집회 공고하여 오늘 개회하게 되었습니다. 이상으로 보고를 마치겠습니다.\"},\n",
       " 'AGENDA_2': {'0': \"좌석을 정돈하여 주시기 바랍니다. 회의를 속개하겠습니다. 의사일정 제2항 제64회 완주군의회 임시회 회기결정의 건을 상정합니다. 제64회 완주군의회 임시회 회기결정의 건에 대하여는 안성근 운영위원장 외 4인이 발의한대로 '98년 10월 29일부터 11월 3일까지 6일간으로 결정하고자 하는데 의원 여러분 이의 없으십니까?\",\n",
       "  '1': '(『없습니다』하는 의원 있음 )',\n",
       "  '2': '이의가 없으므로 가결되었음을 선포합니다.',\n",
       "  '3': '이번 회기중의 의사일정은 배부해 드린 유인물을 참고하여 주시기 바랍니다.'},\n",
       " 'AGENDA_3': {'0': '다음은 의사일정 제3항 행정사무감사특별위원회구성의 건을 상정합니다. 본 건은 완주군의회 행정사무감사 및 조사에 관한 조례 제2조 제1항의 규정에 의하여 감사특별위원회를 구성하여 제64회 임시회에서 행정사무감사 계획서를 작성하고 정기회에서 행정사무감사를 심시하고자 하는데 의원 여러분 이의 있으십니까?',\n",
       "  '1': '(『없습니다』하는 의원 있음)',\n",
       "  '2': '그러면 이의가 없으므로 감사특별위원회는 방대한 완주군 행정사무 전 분야를 보아야 하기 때문에 전 의원으로 구성코자 합니다. 감사특별위원회 구성은 이희창 의원, 안성근 의원, 소학영 의원, 함정구 의원, 이석환 의원, 홍의환 의원, 김영석 의원, 소병래 의원, 조정석 의원, 이진철 의원, 박용규 의원, 남대일 의원 이상 열두분 의원을 감사특별위원회 위원으로 선임코자 합니다. 의원 여러분 이의 없으십니까?',\n",
       "  '3': '(『없습니다』하는 의원 있음)',\n",
       "  '4': '이의가 없으므로 가결되었음을 선포합니다. 감사특별위원회 존속 기간은 금일부터 정기회의시 행정사무감사를 실시하고, 그 결과를 본회의에 보고하여 의결될 때까지 존속하여 주시기 바랍니다. 또한 감사특별위원회는 완주군의회 위원회 조례 제8조제1항 및 제11조제2항의 규정에 따라 위원장 1인과 간사 1인을 호선하여 본회의에 보고하여 주시기 바랍니다.',\n",
       "  '5': '그리고 완주군의회 행정사무감사 및 조사에 관한 조례 제2조제2항의 규정에 따라 감사계획서를 작성하여 제2차 본회의에 승인을 얻으시기 바랍니다.'},\n",
       " 'AGENDA_4': {'0': '다음은 의사일정 제4항 휴회의 건을 상정합니다. 본 건은 감사특별위원회와 상임위원회 활동을 위하여 10월 30일부터 11월 2일까지 4일간 휴회하고자 하는데 의원 여러분 이의 없으십니까?',\n",
       "  '1': '(『없습니다』하는 의원 있음)',\n",
       "  '2': '그러면 이의가 없으므로 가결되었음을 선포합니다.'},\n",
       " 'AGENDA_5': {'0': '다음은 지방자치법 제64조제2항과 완주군의회 회의규칙 제46조제1항의 규정에 의거 제64회 완주군의회 임시회 회의록 서명의원은 이석환 의원과 홍의환 의원을 선임하고자 하는데 의원 여러분 이의 없으십니까?',\n",
       "  '1': '(『없습니다』하는 의원 있음)',\n",
       "  '2': '이의가 없으므로 두분 의원이 회의록 서명의원으로 선임되었음을 선포합니다. 두분께서는 본회기동안 수고하여 주시기 바랍니다. 이상으로 제1차 본회의를 마치고, 제2차 본회의는 11월 3일 오전 10시에 개의하겠습니다. 의원 여러분 수고하셨습니다. 오늘은 이것으로 산회를 선포합니다.'}}"
      ]
     },
     "execution_count": 8,
     "metadata": {},
     "output_type": "execute_result"
    }
   ],
   "source": [
    "# train.head()\n",
    "# train.tail()\n",
    "train[100]['context']"
   ]
  },
  {
   "cell_type": "code",
   "execution_count": 5,
   "metadata": {},
   "outputs": [
    {
     "data": {
      "text/plain": [
       "0    {'id': 1000, 'title': '제207회 완주군의회(임시회) 제 1 차 ...\n",
       "Name: 0, dtype: object"
      ]
     },
     "execution_count": 5,
     "metadata": {},
     "output_type": "execute_result"
    }
   ],
   "source": [
    "train.iloc[0]"
   ]
  },
  {
   "cell_type": "code",
   "execution_count": 6,
   "metadata": {},
   "outputs": [],
   "source": [
    "row_0 = dict(train.iloc[0])"
   ]
  },
  {
   "cell_type": "code",
   "execution_count": 7,
   "metadata": {},
   "outputs": [
    {
     "data": {
      "text/plain": [
       "dict_keys(['id', 'title', 'region', 'num_agenda', 'context', 'label'])"
      ]
     },
     "execution_count": 7,
     "metadata": {},
     "output_type": "execute_result"
    }
   ],
   "source": [
    "row_0[0].keys()"
   ]
  },
  {
   "cell_type": "code",
   "execution_count": 8,
   "metadata": {},
   "outputs": [
    {
     "data": {
      "text/plain": [
       "'제207회 완주군의회(임시회) 제 1 차 본회의회의록'"
      ]
     },
     "execution_count": 8,
     "metadata": {},
     "output_type": "execute_result"
    }
   ],
   "source": [
    "row_0[0]['title']"
   ]
  },
  {
   "cell_type": "code",
   "execution_count": 9,
   "metadata": {},
   "outputs": [
    {
     "data": {
      "text/plain": [
       "{'AGENDA_1': {'0': '의석을 정돈하여 주시기 바랍니다. 성원이 되었으므로 제207회 완주군의회 임시회 제1차 본회의 개의를 선포합니다. 먼저 의사팀장으로부터 의회 관련 사항에 대한 보고가 있겠습니다. 의사팀장은 보고하여 주시기 바랍니다.',\n",
       "  '1': '의사팀장 이은미 입니다. 의회관련 사항을 보고 드리겠습니다. 먼저 제207회 완주군의회 임시회 소집경위를 보고 드리겠습니다. 지방자치법 제45조 제2항의 규정에 의거 서남용 의원님 외 4인의 의원님으로부터 임시회 집회 요구가 있어 지난 8월6일 집회 공고를 하고 오늘 집회를 갖게 되었습니다. 다음은 의안접수 및 회부사항입니다. 먼저 의원발의 안건입니다. 완주군의회 의원 의정활동비등 지급에 관한 조례 일부개정 조례안, 완주군 향토문화유산 보호 및 관리 조례안, 완주군 싸움소 육성 지원에 관한 조례안 등 총 3건으로, 해당 상임의원회로 회부 하였습니다. 다음은 완주군수로부터 제출된 안건입니다. 삼례문화예술촌 설치 및 운영조례 일부개정 조례안 등 총 40건으로 해당 상임의원회로 회부하였습니다. 자세한 내용은 배부해 드린 유인물을 참조하여 주시기 바랍니다. 이상 보고를 마치겠습니다.'},\n",
       " 'AGENDA_2': {'0': '의사팀장 수고하셨습니다. 먼저 의사일정 제1항 제207회 완주군의회 임시회 회기 결정의 건을 상정합니다. 제207회 완주군의회 임시회 회기 결정의 건에 대하여는 서남용 의원님 외 4인의 의원님이 발의한대로 8월 26일부터 9월 4일까지 10일간의 회기를 결정하고자 합니다. 의원 여러분 이의 있으십니까?',\n",
       "  '1': '(『없습니다』하는 의원 있음)',\n",
       "  '2': '이의가 없으므로 가결되었음을 선포합니다.'},\n",
       " 'AGENDA_3': {'0': '다음은 의사일정 제2항 제207회 완주군의회 임시회 회의록 서명의원 선출의 건을 상정합니다. 회의록 서명의원으로는 최등원 의원님과 박웅배 의원님을 선출하고자 하는데 의원여러분 이의 있습니까?',\n",
       "  '1': '(『없습니다』하는 의원 있음)',\n",
       "  '2': '이의가 없으므로 가결되었음을 선포합니다. 그럼 두 분 의원님께서는 본 회기동안 수고하여 주시기 바랍니다.'},\n",
       " 'AGENDA_4': {'0': '다음은 의사일정 제3항 본회의 휴회의 건을 상정합니다. 상임의원회 의정활동을 위하여 8월 27일부터 9월 3일까지 8일간 본회를 휴회 하고자 합니다. 의원여러분 이의 있으십니까?',\n",
       "  '1': '(『없습니다』하는 의원 있음)',\n",
       "  '2': '이의가 없으므로 가결되었음을 선포합니다. 이상으로 제207회 완주군의회 임시회 제1차 본회의를 마치겠습니다. 다음 제2차 본회의는 9월 4일 오전 10시에 개의하겠습니다. 의원여러분 수고 많으셨습니다. 산회를 선포합니다.'}}"
      ]
     },
     "execution_count": 9,
     "metadata": {},
     "output_type": "execute_result"
    }
   ],
   "source": [
    "row_0[0]['context']"
   ]
  },
  {
   "cell_type": "code",
   "execution_count": 14,
   "metadata": {},
   "outputs": [
    {
     "data": {
      "text/plain": [
       "4"
      ]
     },
     "execution_count": 14,
     "metadata": {},
     "output_type": "execute_result"
    }
   ],
   "source": [
    "row_0[0]['num_agenda']\n",
    "#\"check\""
   ]
  },
  {
   "cell_type": "code",
   "execution_count": 11,
   "metadata": {},
   "outputs": [
    {
     "data": {
      "text/plain": [
       "{'AGENDA_1': {'evidence': {'0': ['의석을 정돈하여 주시기 바랍니다.',\n",
       "    '성원이 되었으므로 제207회 완주군의회 임시회 제1차 본회의 개의를 선포합니다.']},\n",
       "  'summary': '제207회 완주군의회 임시회 제1차 본회의 개의 선포.'},\n",
       " 'AGENDA_2': {'evidence': {'0': ['먼저 의사일정 제1항 제207회 완주군의회 임시회 회기 결정의 건을 상정합니다.',\n",
       "    '제207회 완주군의회 임시회 회기 결정의 건에 대하여는 서남용 의원님 외 4인의 의원님이 발의한대로 8월 26일부터 9월 4일까지 10일간의 회기를 결정하고자 합니다.',\n",
       "    '의원 여러분 이의 있으십니까?'],\n",
       "   '2': ['이의가 없으므로 가결되었음을 선포합니다.']},\n",
       "  'summary': '제207회 완주군의회 임시회 회기는 8월 26일부터 9월 4일까지 10일간으로 가결됨.'},\n",
       " 'AGENDA_3': {'evidence': {'0': ['다음은 의사일정 제2항 제207회 완주군의회 임시회 회의록 서명의원 선출의 건을 상정합니다.',\n",
       "    '회의록 서명의원으로는 최등원 의원님과 박웅배 의원님을 선출하고자 하는데 의원여러분 이의 있습니까?'],\n",
       "   '2': ['이의가 없으므로 가결되었음을 선포합니다.']},\n",
       "  'summary': '제207회 완주군의회 임시회 회의록 서명의원으로 최등원 의원과 박웅배 의원이 선출됨.'},\n",
       " 'AGENDA_4': {'evidence': {'0': ['다음은 의사일정 제3항 본회의 휴회의 건을 상정합니다.',\n",
       "    '상임의원회 의정활동을 위하여 8월 27일부터 9월 3일까지 8일간 본회를 휴회 하고자 합니다.',\n",
       "    '의원여러분 이의 있으십니까?'],\n",
       "   '2': ['이의가 없으므로 가결되었음을 선포합니다.', '다음 제2차 본회의는 9월 4일 오전 10시에 개의하겠습니다.']},\n",
       "  'summary': '8월 27일부터 9월 3일까지 8일간 휴회가 가결됨. 제2차 본회의는 9월 4일 오전 10시에 개의.'}}"
      ]
     },
     "execution_count": 11,
     "metadata": {},
     "output_type": "execute_result"
    }
   ],
   "source": [
    "row_0[0]['label']"
   ]
  },
  {
   "cell_type": "code",
   "execution_count": 12,
   "metadata": {},
   "outputs": [
    {
     "data": {
      "text/plain": [
       "463"
      ]
     },
     "execution_count": 12,
     "metadata": {},
     "output_type": "execute_result"
    }
   ],
   "source": [
    "len(train)"
   ]
  },
  {
   "cell_type": "code",
   "execution_count": null,
   "metadata": {},
   "outputs": [],
   "source": []
  }
 ],
 "metadata": {
  "interpreter": {
   "hash": "ab1b603946cd54874584e3733ca987799a96e69fa454384f8c81796586d13240"
  },
  "kernelspec": {
   "display_name": "Python 3.8.5 64-bit ('base': conda)",
   "name": "python3"
  },
  "language_info": {
   "codemirror_mode": {
    "name": "ipython",
    "version": 3
   },
   "file_extension": ".py",
   "mimetype": "text/x-python",
   "name": "python",
   "nbconvert_exporter": "python",
   "pygments_lexer": "ipython3",
   "version": "3.8.5"
  },
  "orig_nbformat": 4
 },
 "nbformat": 4,
 "nbformat_minor": 2
}
