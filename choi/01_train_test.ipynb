{
 "cells": [
  {
   "cell_type": "code",
   "execution_count": 2,
   "metadata": {},
   "outputs": [
    {
     "name": "stdout",
     "output_type": "stream",
     "text": [
      "Defaulting to user installation because normal site-packages is not writeable\n",
      "Collecting transformers==3\n",
      "  Downloading transformers-3.0.0-py3-none-any.whl (754 kB)\n",
      "\u001b[K     |████████████████████████████████| 754 kB 2.0 MB/s \n",
      "\u001b[?25hRequirement already satisfied: requests in /Users/june/Library/Python/3.8/lib/python/site-packages (from transformers==3) (2.25.1)\n",
      "Requirement already satisfied: tqdm>=4.27 in /Users/june/Library/Python/3.8/lib/python/site-packages (from transformers==3) (4.59.0)\n",
      "Collecting tokenizers==0.8.0-rc4\n",
      "  Downloading tokenizers-0.8.0rc4-cp38-cp38-macosx_10_10_x86_64.whl (2.1 MB)\n",
      "\u001b[K     |████████████████████████████████| 2.1 MB 12.8 MB/s \n",
      "\u001b[?25hCollecting sacremoses\n",
      "  Downloading sacremoses-0.0.46-py3-none-any.whl (895 kB)\n",
      "\u001b[K     |████████████████████████████████| 895 kB 13.8 MB/s \n",
      "\u001b[?25hRequirement already satisfied: packaging in /Users/june/Library/Python/3.8/lib/python/site-packages (from transformers==3) (20.9)\n",
      "Requirement already satisfied: filelock in /Users/june/Library/Python/3.8/lib/python/site-packages (from transformers==3) (3.0.12)\n",
      "Collecting regex!=2019.12.17\n",
      "  Downloading regex-2021.10.8-cp38-cp38-macosx_10_9_x86_64.whl (288 kB)\n",
      "\u001b[K     |████████████████████████████████| 288 kB 26.7 MB/s \n",
      "\u001b[?25hRequirement already satisfied: numpy in /Users/june/Library/Python/3.8/lib/python/site-packages (from transformers==3) (1.20.1)\n",
      "Collecting sentencepiece\n",
      "  Downloading sentencepiece-0.1.96-cp38-cp38-macosx_10_6_x86_64.whl (1.1 MB)\n",
      "\u001b[K     |████████████████████████████████| 1.1 MB 15.8 MB/s \n",
      "\u001b[?25hRequirement already satisfied: pyparsing>=2.0.2 in /Users/june/Library/Python/3.8/lib/python/site-packages (from packaging->transformers==3) (2.4.7)\n",
      "Requirement already satisfied: urllib3<1.27,>=1.21.1 in /Users/june/Library/Python/3.8/lib/python/site-packages (from requests->transformers==3) (1.26.3)\n",
      "Requirement already satisfied: certifi>=2017.4.17 in /Users/june/Library/Python/3.8/lib/python/site-packages (from requests->transformers==3) (2020.12.5)\n",
      "Requirement already satisfied: idna<3,>=2.5 in /Users/june/Library/Python/3.8/lib/python/site-packages (from requests->transformers==3) (2.10)\n",
      "Requirement already satisfied: chardet<5,>=3.0.2 in /Users/june/Library/Python/3.8/lib/python/site-packages (from requests->transformers==3) (4.0.0)\n",
      "Requirement already satisfied: six in /Library/Developer/CommandLineTools/Library/Frameworks/Python3.framework/Versions/3.8/lib/python3.8/site-packages (from sacremoses->transformers==3) (1.15.0)\n",
      "Requirement already satisfied: joblib in /Users/june/Library/Python/3.8/lib/python/site-packages (from sacremoses->transformers==3) (1.0.1)\n",
      "Requirement already satisfied: click in /Users/june/Library/Python/3.8/lib/python/site-packages (from sacremoses->transformers==3) (7.1.2)\n",
      "Installing collected packages: regex, tokenizers, sentencepiece, sacremoses, transformers\n",
      "\u001b[33m  WARNING: The script sacremoses is installed in '/Users/june/Library/Python/3.8/bin' which is not on PATH.\n",
      "  Consider adding this directory to PATH or, if you prefer to suppress this warning, use --no-warn-script-location.\u001b[0m\n",
      "\u001b[33m  WARNING: The script transformers-cli is installed in '/Users/june/Library/Python/3.8/bin' which is not on PATH.\n",
      "  Consider adding this directory to PATH or, if you prefer to suppress this warning, use --no-warn-script-location.\u001b[0m\n",
      "Successfully installed regex-2021.10.8 sacremoses-0.0.46 sentencepiece-0.1.96 tokenizers-0.8.0rc4 transformers-3.0.0\n",
      "\u001b[33mWARNING: You are using pip version 21.0.1; however, version 21.2.4 is available.\n",
      "You should consider upgrading via the '/Library/Developer/CommandLineTools/usr/bin/python3 -m pip install --upgrade pip' command.\u001b[0m\n"
     ]
    }
   ],
   "source": []
  },
  {
   "cell_type": "code",
   "execution_count": null,
   "metadata": {},
   "outputs": [],
   "source": []
  }
 ],
 "metadata": {
  "interpreter": {
   "hash": "31f2aee4e71d21fbe5cf8b01ff0e069b9275f58929596ceb00d14d90e3e16cd6"
  },
  "kernelspec": {
   "display_name": "Python 3.8.2 64-bit",
   "name": "python3"
  },
  "language_info": {
   "codemirror_mode": {
    "name": "ipython",
    "version": 3
   },
   "file_extension": ".py",
   "mimetype": "text/x-python",
   "name": "python",
   "nbconvert_exporter": "python",
   "pygments_lexer": "ipython3",
   "version": "3.8.2"
  },
  "orig_nbformat": 4
 },
 "nbformat": 4,
 "nbformat_minor": 2
}
